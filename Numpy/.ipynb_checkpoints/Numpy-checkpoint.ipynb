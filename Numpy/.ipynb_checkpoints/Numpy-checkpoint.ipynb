{
 "cells": [
  {
   "cell_type": "markdown",
   "id": "cc8f73e1-e85f-4ade-aeb6-d2bf4d4e8a32",
   "metadata": {},
   "source": [
    "# What is numpy?\n",
    "\n",
    "We can store data in multi dimensional array's\n",
    "\n",
    "# Numpy Vs. List\n",
    "\n",
    "List's are very slow while numpy are very fast\n",
    "* The reason is that numpy uses fixed type (where only the number it self is stored without any other information but in lists it stores many other factors inturn increasing the size of the no. of bits to store each number).\n",
    "* The data in an numpy array are all the same type but for lists it is different it can have many types\n",
    "* Contiguous Memory, the data is scatterd every where in the memory when it comes to list but numpy has data sequentially inorder and right next to each other, we wont need to store the order and other usless info that is stored when using lists\n",
    "\n",
    "# Applications of NumPy?\n",
    "- MATLAB Replacement\n",
    "- ML"
   ]
  },
  {
   "cell_type": "code",
   "execution_count": null,
   "id": "74d16a05-e6a8-410b-8b83-6918307a2a76",
   "metadata": {},
   "outputs": [],
   "source": []
  }
 ],
 "metadata": {
  "kernelspec": {
   "display_name": "Python 3 (ipykernel)",
   "language": "python",
   "name": "python3"
  },
  "language_info": {
   "codemirror_mode": {
    "name": "ipython",
    "version": 3
   },
   "file_extension": ".py",
   "mimetype": "text/x-python",
   "name": "python",
   "nbconvert_exporter": "python",
   "pygments_lexer": "ipython3",
   "version": "3.8.8"
  }
 },
 "nbformat": 4,
 "nbformat_minor": 5
}
