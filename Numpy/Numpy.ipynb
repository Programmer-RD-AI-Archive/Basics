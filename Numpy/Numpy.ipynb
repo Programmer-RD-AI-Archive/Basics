{
 "cells": [
  {
   "cell_type": "markdown",
   "id": "cc8f73e1-e85f-4ade-aeb6-d2bf4d4e8a32",
   "metadata": {},
   "source": [
    "# What is numpy?\n",
    "\n",
    "We can store data in multi dimensional array's\n",
    "\n",
    "# Numpy Vs. List\n",
    "\n",
    "List's are very slow while numpy are very fast\n",
    "* The reason is that numpy uses fixed type (where only the number it self is stored without any other information but in lists it stores many other factors inturn increasing the size of the no. of bits to store each number).\n",
    "* The data in an numpy array are all the same type but for lists it is different it can have many types\n",
    "* Contiguous Memory, the data is scatterd every where in the memory when it comes to list but numpy has data sequentially inorder and right next to each other, we wont need to store the order and other usless info that is stored when using lists\n",
    "\n",
    "# Applications of NumPy?\n",
    "- MATLAB Replacement\n",
    "- ML"
   ]
  },
  {
   "cell_type": "markdown",
   "id": "f838a447-64a8-4756-8e55-168a9cbc52e2",
   "metadata": {},
   "source": [
    "# The Basics"
   ]
  },
  {
   "cell_type": "code",
   "execution_count": 1,
   "id": "74d16a05-e6a8-410b-8b83-6918307a2a76",
   "metadata": {
    "tags": []
   },
   "outputs": [],
   "source": [
    "import numpy as np\n",
    "import pandas as pd\n",
    "import matplotlib.pyplot as plt"
   ]
  },
  {
   "cell_type": "code",
   "execution_count": 2,
   "id": "d99730cd-2895-4123-bd7e-6c1c1290d293",
   "metadata": {
    "tags": []
   },
   "outputs": [],
   "source": [
    "a = np.array([1,2,3])"
   ]
  },
  {
   "cell_type": "code",
   "execution_count": 3,
   "id": "1dece717-a1a8-46cd-9a12-b668ba5ff8e5",
   "metadata": {
    "tags": []
   },
   "outputs": [
    {
     "name": "stdout",
     "output_type": "stream",
     "text": [
      "[1 2 3 5]\n",
      "[1 2 5]\n"
     ]
    }
   ],
   "source": [
    "# append, delete\n",
    "a = np.append(a,5)\n",
    "print(a)\n",
    "a = np.delete(a,2) \n",
    "print(a)"
   ]
  },
  {
   "cell_type": "code",
   "execution_count": 4,
   "id": "eb43134c-a229-4b62-a4be-ef9f79806970",
   "metadata": {
    "tags": []
   },
   "outputs": [
    {
     "data": {
      "text/plain": [
       "(3,)"
      ]
     },
     "execution_count": 4,
     "metadata": {},
     "output_type": "execute_result"
    }
   ],
   "source": [
    "a.shape"
   ]
  },
  {
   "cell_type": "code",
   "execution_count": 5,
   "id": "49d85ae9-6e7c-449b-b96c-57a902aa4067",
   "metadata": {
    "tags": []
   },
   "outputs": [
    {
     "data": {
      "text/plain": [
       "dtype('int64')"
      ]
     },
     "execution_count": 5,
     "metadata": {},
     "output_type": "execute_result"
    }
   ],
   "source": [
    "a.dtype"
   ]
  },
  {
   "cell_type": "code",
   "execution_count": 6,
   "id": "74eb6dec-8979-4caa-a978-97eadd76f05d",
   "metadata": {
    "tags": []
   },
   "outputs": [
    {
     "data": {
      "text/plain": [
       "(1, (3,))"
      ]
     },
     "execution_count": 6,
     "metadata": {},
     "output_type": "execute_result"
    }
   ],
   "source": [
    "a.ndim,a.shape"
   ]
  },
  {
   "cell_type": "code",
   "execution_count": 7,
   "id": "d2e040af-0dbd-4f1d-9fe2-53356c766550",
   "metadata": {
    "tags": []
   },
   "outputs": [],
   "source": [
    "b = np.array([\n",
    "    [9.0,8.0,7.0],\n",
    "    [6.0,5.0,4.0]\n",
    "])"
   ]
  },
  {
   "cell_type": "code",
   "execution_count": 8,
   "id": "f70f0e57-d27f-4eb2-b0d3-4b45fa7fa1f2",
   "metadata": {
    "tags": []
   },
   "outputs": [
    {
     "data": {
      "text/plain": [
       "((2, 3), 2)"
      ]
     },
     "execution_count": 8,
     "metadata": {},
     "output_type": "execute_result"
    }
   ],
   "source": [
    "b.shape,b.ndim"
   ]
  },
  {
   "cell_type": "code",
   "execution_count": 9,
   "id": "4e9c24ce-e3e5-409d-a761-89dc80a4ced9",
   "metadata": {
    "tags": []
   },
   "outputs": [
    {
     "data": {
      "text/plain": [
       "array([[9, 8, 7],\n",
       "       [6, 5, 4]])"
      ]
     },
     "execution_count": 9,
     "metadata": {},
     "output_type": "execute_result"
    }
   ],
   "source": [
    "b.astype(int)"
   ]
  },
  {
   "cell_type": "code",
   "execution_count": 10,
   "id": "9ddd314d-6aac-4fa7-84eb-81798d5127d6",
   "metadata": {
    "tags": []
   },
   "outputs": [
    {
     "data": {
      "text/plain": [
       "8"
      ]
     },
     "execution_count": 10,
     "metadata": {},
     "output_type": "execute_result"
    }
   ],
   "source": [
    "a.itemsize # no. of bites per element"
   ]
  },
  {
   "cell_type": "code",
   "execution_count": 11,
   "id": "d105eb16-8dcd-498c-b6ad-9261688f2976",
   "metadata": {
    "tags": []
   },
   "outputs": [
    {
     "data": {
      "text/plain": [
       "3"
      ]
     },
     "execution_count": 11,
     "metadata": {},
     "output_type": "execute_result"
    }
   ],
   "source": [
    "a.size # total no. of elements"
   ]
  },
  {
   "cell_type": "code",
   "execution_count": 12,
   "id": "f67a5a17-1551-4fc3-8cb4-53d1d7fac0cd",
   "metadata": {
    "tags": []
   },
   "outputs": [
    {
     "data": {
      "text/plain": [
       "24"
      ]
     },
     "execution_count": 12,
     "metadata": {},
     "output_type": "execute_result"
    }
   ],
   "source": [
    "a.nbytes # tot. no of bytes"
   ]
  },
  {
   "cell_type": "markdown",
   "id": "e2e2944c-2ec1-4a5f-afea-f7b6c50080a5",
   "metadata": {},
   "source": [
    "# Accessing /Changin specific elements, rows, columns, etc..."
   ]
  },
  {
   "cell_type": "code",
   "execution_count": 13,
   "id": "338a6ee1-1bac-4a6f-984e-bc3542f72a68",
   "metadata": {
    "tags": []
   },
   "outputs": [],
   "source": [
    "a = np.array([[1,2,3,4,5,6,7],[8,9,10,11,12,13,14]])"
   ]
  },
  {
   "cell_type": "code",
   "execution_count": 14,
   "id": "30148d4a-721c-4886-8a57-c07cbbae6492",
   "metadata": {
    "tags": []
   },
   "outputs": [
    {
     "data": {
      "text/plain": [
       "13"
      ]
     },
     "execution_count": 14,
     "metadata": {},
     "output_type": "execute_result"
    }
   ],
   "source": [
    "a[1,5] # a[0][5]"
   ]
  },
  {
   "cell_type": "code",
   "execution_count": 15,
   "id": "c3cc0852-134f-46b5-8b4f-efdc16ad5ec7",
   "metadata": {
    "tags": []
   },
   "outputs": [
    {
     "data": {
      "text/plain": [
       "(2, 7)"
      ]
     },
     "execution_count": 15,
     "metadata": {},
     "output_type": "execute_result"
    }
   ],
   "source": [
    "a.shape"
   ]
  },
  {
   "cell_type": "code",
   "execution_count": 16,
   "id": "0b49a93c-01ae-4d22-bbbd-689908e3ad18",
   "metadata": {
    "tags": []
   },
   "outputs": [
    {
     "data": {
      "text/plain": [
       "13"
      ]
     },
     "execution_count": 16,
     "metadata": {},
     "output_type": "execute_result"
    }
   ],
   "source": [
    "# [r, c]\n",
    "a[1,5]"
   ]
  },
  {
   "cell_type": "code",
   "execution_count": 17,
   "id": "427c67c4-0c24-4675-a9b3-33873220801e",
   "metadata": {
    "tags": []
   },
   "outputs": [
    {
     "data": {
      "text/plain": [
       "array([1, 2, 3, 4, 5, 6, 7])"
      ]
     },
     "execution_count": 17,
     "metadata": {},
     "output_type": "execute_result"
    }
   ],
   "source": [
    "# Get specific row\n",
    "a[0, :]"
   ]
  },
  {
   "cell_type": "code",
   "execution_count": 18,
   "id": "f0971c78-c48a-4049-8f41-d9f3922fc2d4",
   "metadata": {
    "tags": []
   },
   "outputs": [
    {
     "data": {
      "text/plain": [
       "array([ 6, 13])"
      ]
     },
     "execution_count": 18,
     "metadata": {},
     "output_type": "execute_result"
    }
   ],
   "source": [
    "a[:,5]"
   ]
  },
  {
   "cell_type": "code",
   "execution_count": 19,
   "id": "db893cd0-d08d-40e6-bf97-305666cdb583",
   "metadata": {
    "tags": []
   },
   "outputs": [
    {
     "data": {
      "text/plain": [
       "array([2, 4, 6])"
      ]
     },
     "execution_count": 19,
     "metadata": {},
     "output_type": "execute_result"
    }
   ],
   "source": [
    "# [startidx:endidx:stepsize]\n",
    "a[0, 1:6:2]"
   ]
  },
  {
   "cell_type": "code",
   "execution_count": 20,
   "id": "72ab23e9-1bb3-4cf8-8e43-b08a141657ea",
   "metadata": {
    "tags": []
   },
   "outputs": [],
   "source": [
    "a[1,5] = 20"
   ]
  },
  {
   "cell_type": "code",
   "execution_count": 21,
   "id": "1c35dd20-23f9-493a-9637-7f9220548b5c",
   "metadata": {
    "tags": []
   },
   "outputs": [
    {
     "data": {
      "text/plain": [
       "array([[ 1,  2,  3,  4,  5,  6,  7],\n",
       "       [ 8,  9, 10, 11, 12, 20, 14]])"
      ]
     },
     "execution_count": 21,
     "metadata": {},
     "output_type": "execute_result"
    }
   ],
   "source": [
    "a"
   ]
  },
  {
   "cell_type": "code",
   "execution_count": 22,
   "id": "e07c26ee-6e89-489a-91fa-ca42aab40426",
   "metadata": {
    "tags": []
   },
   "outputs": [],
   "source": [
    "a[:,2] = [5,2]"
   ]
  },
  {
   "cell_type": "code",
   "execution_count": 23,
   "id": "8379a18c-6eaa-4b46-a0f7-caf8f3bb245e",
   "metadata": {
    "tags": []
   },
   "outputs": [
    {
     "data": {
      "text/plain": [
       "array([[ 1,  2,  5,  4,  5,  6,  7],\n",
       "       [ 8,  9,  2, 11, 12, 20, 14]])"
      ]
     },
     "execution_count": 23,
     "metadata": {},
     "output_type": "execute_result"
    }
   ],
   "source": [
    "a"
   ]
  },
  {
   "cell_type": "markdown",
   "id": "3dcd29b6-9cff-46b7-accc-5f436a6856b7",
   "metadata": {
    "tags": []
   },
   "source": [
    "# Initalizing Different types of arrays"
   ]
  },
  {
   "cell_type": "code",
   "execution_count": 24,
   "id": "7f1dcac0-ff5f-4199-9ef8-1da280218fc3",
   "metadata": {
    "tags": []
   },
   "outputs": [
    {
     "data": {
      "text/plain": [
       "array([0., 0., 0., 0., 0.])"
      ]
     },
     "execution_count": 24,
     "metadata": {},
     "output_type": "execute_result"
    }
   ],
   "source": [
    "np.zeros(5)"
   ]
  },
  {
   "cell_type": "code",
   "execution_count": 25,
   "id": "bce28c5e-d4ad-4b01-8064-59916da1eaca",
   "metadata": {
    "tags": []
   },
   "outputs": [
    {
     "data": {
      "text/plain": [
       "array([1., 1., 1., 1., 1.])"
      ]
     },
     "execution_count": 25,
     "metadata": {},
     "output_type": "execute_result"
    }
   ],
   "source": [
    "np.ones(5)"
   ]
  },
  {
   "cell_type": "code",
   "execution_count": 26,
   "id": "ddf24539-09b4-426c-9fd6-37911980f526",
   "metadata": {
    "tags": []
   },
   "outputs": [
    {
     "data": {
      "text/plain": [
       "array([2, 2, 2, 2, 2])"
      ]
     },
     "execution_count": 26,
     "metadata": {},
     "output_type": "execute_result"
    }
   ],
   "source": [
    "np.full(5,2) # shape, the no."
   ]
  },
  {
   "cell_type": "code",
   "execution_count": 27,
   "id": "9d8a4157-dc2f-4915-af11-6c8259434764",
   "metadata": {
    "tags": []
   },
   "outputs": [
    {
     "data": {
      "text/plain": [
       "array([[4, 4, 4, 4, 4, 4, 4],\n",
       "       [4, 4, 4, 4, 4, 4, 4]])"
      ]
     },
     "execution_count": 27,
     "metadata": {},
     "output_type": "execute_result"
    }
   ],
   "source": [
    "np.full_like(a,4) # np.full(a.shape,4)"
   ]
  },
  {
   "cell_type": "code",
   "execution_count": 28,
   "id": "f2be1e37-897f-419a-b834-5bb397923c04",
   "metadata": {
    "tags": []
   },
   "outputs": [
    {
     "data": {
      "text/plain": [
       "array([0.68989984, 0.83679452, 0.88983497, 0.4986312 , 0.74293551])"
      ]
     },
     "execution_count": 28,
     "metadata": {},
     "output_type": "execute_result"
    }
   ],
   "source": [
    "# Random decimal numbers\n",
    "np.random.rand(5)"
   ]
  },
  {
   "cell_type": "code",
   "execution_count": 29,
   "id": "b6c44657-5dc5-45fa-837e-bf1a6e0993a5",
   "metadata": {
    "tags": []
   },
   "outputs": [
    {
     "data": {
      "text/plain": [
       "array([-0.7664737 , -0.22288964, -1.46721527,  0.39834152,  0.87599694])"
      ]
     },
     "execution_count": 29,
     "metadata": {},
     "output_type": "execute_result"
    }
   ],
   "source": [
    "np.random.randn(5)"
   ]
  },
  {
   "cell_type": "code",
   "execution_count": 30,
   "id": "92ff2da1-82b6-4883-be39-27f9f36f63a4",
   "metadata": {
    "tags": []
   },
   "outputs": [
    {
     "data": {
      "text/plain": [
       "5"
      ]
     },
     "execution_count": 30,
     "metadata": {},
     "output_type": "execute_result"
    }
   ],
   "source": [
    "np.random.randint(6)"
   ]
  },
  {
   "cell_type": "code",
   "execution_count": 31,
   "id": "ce968e65-ac2c-4567-9b73-46b7e2fff6b3",
   "metadata": {
    "tags": []
   },
   "outputs": [
    {
     "data": {
      "text/plain": [
       "array([[2, 1],\n",
       "       [2, 3],\n",
       "       [3, 1],\n",
       "       [3, 4],\n",
       "       [2, 4]])"
      ]
     },
     "execution_count": 31,
     "metadata": {},
     "output_type": "execute_result"
    }
   ],
   "source": [
    "# Random intelgar values\n",
    "np.random.randint(1,5,size=(5,2))"
   ]
  },
  {
   "cell_type": "code",
   "execution_count": 32,
   "id": "60d92238-c86b-4025-a347-87d041b9a67e",
   "metadata": {
    "tags": []
   },
   "outputs": [
    {
     "data": {
      "text/plain": [
       "array([[1., 0., 0., 0.],\n",
       "       [0., 1., 0., 0.],\n",
       "       [0., 0., 1., 0.],\n",
       "       [0., 0., 0., 1.]])"
      ]
     },
     "execution_count": 32,
     "metadata": {},
     "output_type": "execute_result"
    }
   ],
   "source": [
    "np.identity(4)"
   ]
  },
  {
   "cell_type": "code",
   "execution_count": 33,
   "id": "9114d63d-5789-41c0-8a8a-0e85c24fd054",
   "metadata": {
    "tags": []
   },
   "outputs": [
    {
     "data": {
      "text/plain": [
       "array([[1, 2, 3],\n",
       "       [1, 2, 3],\n",
       "       [1, 2, 3]])"
      ]
     },
     "execution_count": 33,
     "metadata": {},
     "output_type": "execute_result"
    }
   ],
   "source": [
    "arr=np.array([[1,2,3]])\n",
    "r1 = np.repeat(arr,3,axis=0)\n",
    "r1"
   ]
  },
  {
   "cell_type": "markdown",
   "id": "3f6f80cf-0301-48ac-ae43-c8b5141b7eeb",
   "metadata": {},
   "source": [
    "# Copying arrays"
   ]
  },
  {
   "cell_type": "code",
   "execution_count": 34,
   "id": "b419a7f9-60d1-4ca8-9b43-f68c73f7d8d3",
   "metadata": {
    "tags": []
   },
   "outputs": [
    {
     "data": {
      "text/plain": [
       "array([1, 2, 3])"
      ]
     },
     "execution_count": 34,
     "metadata": {},
     "output_type": "execute_result"
    }
   ],
   "source": [
    "a = np.array([1,2,3])\n",
    "a"
   ]
  },
  {
   "cell_type": "code",
   "execution_count": 35,
   "id": "777d6d5f-680c-4ab1-be4e-aa8b43cf82e5",
   "metadata": {
    "tags": []
   },
   "outputs": [],
   "source": [
    "b = a.copy() # !important"
   ]
  },
  {
   "cell_type": "code",
   "execution_count": 36,
   "id": "c9b7c814-657e-4248-8346-bff4de45a1ec",
   "metadata": {
    "tags": []
   },
   "outputs": [],
   "source": [
    "b[2] = 100"
   ]
  },
  {
   "cell_type": "code",
   "execution_count": 37,
   "id": "f6a8b079-3000-4d86-9935-457cab5d4abd",
   "metadata": {
    "tags": []
   },
   "outputs": [
    {
     "data": {
      "text/plain": [
       "(array([1, 2, 3]), array([  1,   2, 100]))"
      ]
     },
     "execution_count": 37,
     "metadata": {},
     "output_type": "execute_result"
    }
   ],
   "source": [
    "a,b"
   ]
  },
  {
   "cell_type": "markdown",
   "id": "f399c97e-a65f-4690-88c4-e74039a4b2c1",
   "metadata": {},
   "source": [
    "# Mathematics"
   ]
  },
  {
   "cell_type": "code",
   "execution_count": 38,
   "id": "f7d2c1a4-3ea2-438a-8904-a60e726881c2",
   "metadata": {
    "tags": []
   },
   "outputs": [],
   "source": [
    "a = np.array([1,2,3,4])"
   ]
  },
  {
   "cell_type": "code",
   "execution_count": 39,
   "id": "3dce50f2-a4f7-480d-b219-b9606d505c66",
   "metadata": {
    "tags": []
   },
   "outputs": [
    {
     "data": {
      "text/plain": [
       "array([1, 2, 3, 4])"
      ]
     },
     "execution_count": 39,
     "metadata": {},
     "output_type": "execute_result"
    }
   ],
   "source": [
    "a"
   ]
  },
  {
   "cell_type": "code",
   "execution_count": 40,
   "id": "929eafe2-cddf-42ec-94a2-ad6310306172",
   "metadata": {
    "tags": []
   },
   "outputs": [
    {
     "data": {
      "text/plain": [
       "array([3, 4, 5, 6])"
      ]
     },
     "execution_count": 40,
     "metadata": {},
     "output_type": "execute_result"
    }
   ],
   "source": [
    "a + 2"
   ]
  },
  {
   "cell_type": "code",
   "execution_count": 41,
   "id": "7d34b6bd-52d8-4288-930f-543875343e57",
   "metadata": {
    "tags": []
   },
   "outputs": [
    {
     "data": {
      "text/plain": [
       "array([-1,  0,  1,  2])"
      ]
     },
     "execution_count": 41,
     "metadata": {},
     "output_type": "execute_result"
    }
   ],
   "source": [
    "a - 2"
   ]
  },
  {
   "cell_type": "code",
   "execution_count": 42,
   "id": "512fca93-a4cc-4572-b2d2-b19249499762",
   "metadata": {
    "tags": []
   },
   "outputs": [
    {
     "data": {
      "text/plain": [
       "array([2, 4, 6, 8])"
      ]
     },
     "execution_count": 42,
     "metadata": {},
     "output_type": "execute_result"
    }
   ],
   "source": [
    "a*2"
   ]
  },
  {
   "cell_type": "code",
   "execution_count": 43,
   "id": "c4cb59f8-a99e-41d0-849f-d075c27803d9",
   "metadata": {
    "tags": []
   },
   "outputs": [
    {
     "data": {
      "text/plain": [
       "array([0.5, 1. , 1.5, 2. ])"
      ]
     },
     "execution_count": 43,
     "metadata": {},
     "output_type": "execute_result"
    }
   ],
   "source": [
    "a/2"
   ]
  },
  {
   "cell_type": "code",
   "execution_count": 44,
   "id": "79249b91-7034-42b0-be13-69033c6cdc8f",
   "metadata": {
    "tags": []
   },
   "outputs": [
    {
     "data": {
      "text/plain": [
       "array([ 1,  4,  9, 16])"
      ]
     },
     "execution_count": 44,
     "metadata": {},
     "output_type": "execute_result"
    }
   ],
   "source": [
    "a ** 2"
   ]
  },
  {
   "cell_type": "code",
   "execution_count": 45,
   "id": "4e7a2f19-39ab-4dc1-8d34-63864fae849e",
   "metadata": {
    "tags": []
   },
   "outputs": [
    {
     "data": {
      "text/plain": [
       "array([ 0.84147098,  0.90929743,  0.14112001, -0.7568025 ])"
      ]
     },
     "execution_count": 45,
     "metadata": {},
     "output_type": "execute_result"
    }
   ],
   "source": [
    "np.sin(a)"
   ]
  },
  {
   "cell_type": "code",
   "execution_count": 46,
   "id": "847a3364-585c-4845-9c2a-f6bbf4d6e767",
   "metadata": {
    "tags": []
   },
   "outputs": [
    {
     "data": {
      "text/plain": [
       "array([ 0.54030231, -0.41614684, -0.9899925 , -0.65364362])"
      ]
     },
     "execution_count": 46,
     "metadata": {},
     "output_type": "execute_result"
    }
   ],
   "source": [
    "np.cos(a)"
   ]
  },
  {
   "cell_type": "code",
   "execution_count": 47,
   "id": "4a1df2e9-635f-4d95-a225-bc750951f801",
   "metadata": {
    "tags": []
   },
   "outputs": [
    {
     "data": {
      "text/plain": [
       "array([ 1.55740772, -2.18503986, -0.14254654,  1.15782128])"
      ]
     },
     "execution_count": 47,
     "metadata": {},
     "output_type": "execute_result"
    }
   ],
   "source": [
    "np.tan(a)"
   ]
  },
  {
   "cell_type": "markdown",
   "id": "00176df0-2714-4870-9526-f7977af9aa37",
   "metadata": {},
   "source": [
    "## Linear Algebra"
   ]
  },
  {
   "cell_type": "code",
   "execution_count": 48,
   "id": "5447c71f-011f-40ba-8570-826d307d2add",
   "metadata": {
    "tags": []
   },
   "outputs": [
    {
     "data": {
      "text/plain": [
       "(array([[1., 1., 1.],\n",
       "        [1., 1., 1.]]),\n",
       " array([[2, 2],\n",
       "        [2, 2],\n",
       "        [2, 2]]))"
      ]
     },
     "execution_count": 48,
     "metadata": {},
     "output_type": "execute_result"
    }
   ],
   "source": [
    "a = np.ones(\n",
    "    (2,3)\n",
    ")\n",
    "b = np.full((3,2),2)\n",
    "a,b"
   ]
  },
  {
   "cell_type": "code",
   "execution_count": 49,
   "id": "c651ccc3-3716-4648-9b80-ecd6aa0709b8",
   "metadata": {
    "tags": []
   },
   "outputs": [
    {
     "data": {
      "text/plain": [
       "array([[6., 6.],\n",
       "       [6., 6.]])"
      ]
     },
     "execution_count": 49,
     "metadata": {},
     "output_type": "execute_result"
    }
   ],
   "source": [
    "np.matmul(a,b)"
   ]
  },
  {
   "cell_type": "code",
   "execution_count": 50,
   "id": "8ae31f8c-66b7-46e7-a60a-9f731c3a0245",
   "metadata": {
    "tags": []
   },
   "outputs": [
    {
     "data": {
      "text/plain": [
       "1.0"
      ]
     },
     "execution_count": 50,
     "metadata": {},
     "output_type": "execute_result"
    }
   ],
   "source": [
    "# Find the determinant\n",
    "c = np.identity(2)\n",
    "np.linalg.det(c)"
   ]
  },
  {
   "cell_type": "code",
   "execution_count": 51,
   "id": "e52591ba-79d3-45ef-92d1-e1fdbfc1f7ca",
   "metadata": {
    "tags": []
   },
   "outputs": [
    {
     "data": {
      "text/plain": [
       "array([[1., 0.],\n",
       "       [0., 1.]])"
      ]
     },
     "execution_count": 51,
     "metadata": {},
     "output_type": "execute_result"
    }
   ],
   "source": [
    "c"
   ]
  },
  {
   "cell_type": "markdown",
   "id": "c694d6d4-806a-462e-90b6-de06bf2f6a15",
   "metadata": {},
   "source": [
    "## Statistics"
   ]
  },
  {
   "cell_type": "code",
   "execution_count": 52,
   "id": "323cab17-5b53-4afa-b1fc-aa06844ab314",
   "metadata": {
    "tags": []
   },
   "outputs": [],
   "source": [
    "stats = np.array([\n",
    "    [1,2,3],\n",
    "    [4,5,6]\n",
    "])"
   ]
  },
  {
   "cell_type": "code",
   "execution_count": 53,
   "id": "99511a5d-a131-459e-997c-63e17b12b925",
   "metadata": {
    "tags": []
   },
   "outputs": [
    {
     "data": {
      "text/plain": [
       "array([[1, 2, 3],\n",
       "       [4, 5, 6]])"
      ]
     },
     "execution_count": 53,
     "metadata": {},
     "output_type": "execute_result"
    }
   ],
   "source": [
    "stats"
   ]
  },
  {
   "cell_type": "code",
   "execution_count": 54,
   "id": "9e344608-4b07-42d3-aa3b-85610834f066",
   "metadata": {
    "tags": []
   },
   "outputs": [
    {
     "data": {
      "text/plain": [
       "1"
      ]
     },
     "execution_count": 54,
     "metadata": {},
     "output_type": "execute_result"
    }
   ],
   "source": [
    "np.min(stats)"
   ]
  },
  {
   "cell_type": "code",
   "execution_count": 55,
   "id": "b8a7dfd6-33ed-4415-9e74-74f97f45cfe9",
   "metadata": {
    "tags": []
   },
   "outputs": [
    {
     "data": {
      "text/plain": [
       "6"
      ]
     },
     "execution_count": 55,
     "metadata": {},
     "output_type": "execute_result"
    }
   ],
   "source": [
    "np.max(stats)"
   ]
  },
  {
   "cell_type": "code",
   "execution_count": 56,
   "id": "2fa52819-b493-4f1b-9b9b-6f19cbc3b71c",
   "metadata": {
    "tags": []
   },
   "outputs": [
    {
     "data": {
      "text/plain": [
       "21"
      ]
     },
     "execution_count": 56,
     "metadata": {},
     "output_type": "execute_result"
    }
   ],
   "source": [
    "np.sum(stats)"
   ]
  },
  {
   "cell_type": "markdown",
   "id": "fbecdf6c-a2f0-46b5-a41f-915ba83b3ebc",
   "metadata": {},
   "source": [
    "## Reorganizing Arrays"
   ]
  },
  {
   "cell_type": "code",
   "execution_count": 57,
   "id": "9c3b7d41-2637-49ea-88f8-0204f87462ab",
   "metadata": {
    "tags": []
   },
   "outputs": [],
   "source": [
    "before = np.array([\n",
    "    [1,2,3,4],\n",
    "    [5,6,7,8]\n",
    "])"
   ]
  },
  {
   "cell_type": "code",
   "execution_count": 58,
   "id": "15a51df1-787b-452a-a25a-a24cde2dbc82",
   "metadata": {
    "tags": []
   },
   "outputs": [
    {
     "data": {
      "text/plain": [
       "(2, 4)"
      ]
     },
     "execution_count": 58,
     "metadata": {},
     "output_type": "execute_result"
    }
   ],
   "source": [
    "before.shape"
   ]
  },
  {
   "cell_type": "code",
   "execution_count": 59,
   "id": "ff4968a4-503a-458c-8249-6c9353372a2c",
   "metadata": {
    "tags": []
   },
   "outputs": [],
   "source": [
    "after=before.reshape(8,1)"
   ]
  },
  {
   "cell_type": "code",
   "execution_count": 60,
   "id": "b8213d86-0059-4c09-b2eb-508e8712cc51",
   "metadata": {
    "tags": []
   },
   "outputs": [
    {
     "data": {
      "text/plain": [
       "array([[1],\n",
       "       [2],\n",
       "       [3],\n",
       "       [4],\n",
       "       [5],\n",
       "       [6],\n",
       "       [7],\n",
       "       [8]])"
      ]
     },
     "execution_count": 60,
     "metadata": {},
     "output_type": "execute_result"
    }
   ],
   "source": [
    "after"
   ]
  },
  {
   "cell_type": "markdown",
   "id": "edc92865-e721-4177-98c8-85267c747320",
   "metadata": {},
   "source": [
    "## Load/Save  data\n"
   ]
  },
  {
   "cell_type": "code",
   "execution_count": 61,
   "id": "d1940765-7c2b-45d0-8285-da4f7a8967df",
   "metadata": {
    "tags": []
   },
   "outputs": [],
   "source": [
    "# np.genfromtext('data.txt',delimiter=',')"
   ]
  },
  {
   "cell_type": "code",
   "execution_count": 62,
   "id": "2f28e9ca-faf7-4766-bb89-1bef34e9fd47",
   "metadata": {
    "tags": []
   },
   "outputs": [],
   "source": [
    "np.save('text.np',after)"
   ]
  },
  {
   "cell_type": "code",
   "execution_count": 63,
   "id": "9e4eb41a-cef7-4964-8025-ee411f1d73bb",
   "metadata": {
    "tags": []
   },
   "outputs": [],
   "source": [
    "after_loaded = np.load('./text.np.npy')"
   ]
  },
  {
   "cell_type": "code",
   "execution_count": 64,
   "id": "58e3d9d9-a414-4304-8613-7ed99ac29659",
   "metadata": {
    "tags": []
   },
   "outputs": [
    {
     "data": {
      "text/plain": [
       "array([[ True],\n",
       "       [ True],\n",
       "       [ True],\n",
       "       [ True],\n",
       "       [ True],\n",
       "       [ True],\n",
       "       [ True],\n",
       "       [ True]])"
      ]
     },
     "execution_count": 64,
     "metadata": {},
     "output_type": "execute_result"
    }
   ],
   "source": [
    "after_loaded==after"
   ]
  },
  {
   "cell_type": "code",
   "execution_count": null,
   "id": "bbd6de40-af52-4108-ac01-4e9a98d11798",
   "metadata": {},
   "outputs": [],
   "source": []
  }
 ],
 "metadata": {
  "kernelspec": {
   "display_name": "Python 3 (ipykernel)",
   "language": "python",
   "name": "python3"
  },
  "language_info": {
   "codemirror_mode": {
    "name": "ipython",
    "version": 3
   },
   "file_extension": ".py",
   "mimetype": "text/x-python",
   "name": "python",
   "nbconvert_exporter": "python",
   "pygments_lexer": "ipython3",
   "version": "3.11.3"
  }
 },
 "nbformat": 4,
 "nbformat_minor": 5
}
